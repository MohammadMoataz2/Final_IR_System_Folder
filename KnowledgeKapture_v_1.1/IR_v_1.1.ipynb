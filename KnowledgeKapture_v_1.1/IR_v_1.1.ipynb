{
 "cells": [
  {
   "cell_type": "markdown",
   "id": "3dc1a9cd",
   "metadata": {},
   "source": [
    "**<center> <span style=\"color:#0F52BA;font-family:serif; font-size:32px;\"> KnowledgeKapture 1.1</span> </center>**"
   ]
  },
  {
   "cell_type": "markdown",
   "source": [
    "# Pre Processing And Stemming Function\n"
   ],
   "metadata": {
    "collapsed": false
   },
   "id": "f63878af14650b6e"
  },
  {
   "cell_type": "code",
   "execution_count": 4,
   "outputs": [],
   "source": [
    "from nltk.corpus import stopwords\n",
    "from nltk.tokenize import word_tokenize\n",
    "from nltk.tokenize import RegexpTokenizer\n",
    "from nltk.stem import PorterStemmer\n",
    "\n",
    "\n",
    "\n",
    "def Pre_proccing_text(text):\n",
    "\n",
    "    stop_words = set(stopwords.words('english') + ['us'])\n",
    "    tokenizer = RegexpTokenizer(r'\\w+')\n",
    "\n",
    "    word_tokens = word_tokenize(text)\n",
    "\n",
    "    filtered_sentence_stopword = [w.lower() for w in word_tokens if not w.lower() in stop_words]\n",
    "\n",
    "    filtered_sentence_punc = tokenizer.tokenize(\" \".join(filtered_sentence_stopword))\n",
    "\n",
    "    return \" \".join(filtered_sentence_punc)\n",
    "\n",
    "\n",
    "\n",
    "\n",
    "def Stemming_sentences(text):\n",
    "\n",
    "    ps = PorterStemmer()\n",
    "\n",
    "    stemming_list = [ps.stem(w) for w in text.split()]\n",
    "\n",
    "    return \" \".join(stemming_list)"
   ],
   "metadata": {
    "collapsed": false,
    "ExecuteTime": {
     "end_time": "2023-08-28T13:45:26.029623600Z",
     "start_time": "2023-08-28T13:45:26.020768400Z"
    }
   },
   "id": "7d67c6ea88b11e31"
  },
  {
   "cell_type": "markdown",
   "id": "6318b8ee",
   "metadata": {},
   "source": [
    "# Crawling"
   ]
  },
  {
   "cell_type": "markdown",
   "source": [
    "# Reading All Doc and Their Names"
   ],
   "metadata": {
    "collapsed": false
   },
   "id": "47968b85020a01cf"
  },
  {
   "cell_type": "code",
   "execution_count": 13,
   "id": "a85e60ea",
   "metadata": {
    "ExecuteTime": {
     "end_time": "2023-08-28T13:59:13.830212500Z",
     "start_time": "2023-08-28T13:59:13.813648800Z"
    }
   },
   "outputs": [
    {
     "data": {
      "text/plain": "{'file_1.txt': ['Elastic search, is a big data text mining tool.'],\n 'file_2.txt': ['Elastic search help us understand data.'],\n 'file_3.txt': ['big data is useful when its big information.'],\n 'file_4.txt': ['Anything else\\n', 'so much'],\n 'file_5.txt': ['he is online\\n',\n  '\\n',\n  'with his freind\\n',\n  '\\n',\n  '\\n',\n  'and father']}"
     },
     "execution_count": 13,
     "metadata": {},
     "output_type": "execute_result"
    }
   ],
   "source": [
    "import os\n",
    "\n",
    "path_of_files = r\"C:\\Users\\HOl\\Desktop\\Final_IR_System_Folder\\Doc_1\"\n",
    "entries = os.listdir(fr'{path_of_files}')\n",
    "\n",
    "doc_dict_alpha = {\n",
    "    \n",
    "    \n",
    "    \n",
    "}\n",
    "\n",
    "\n",
    "for i in entries:\n",
    "    with open(fr'{path_of_files}\\{i}',\"r\" ,encoding='utf8') as w:\n",
    "        doc_dict_alpha[i] = w.readlines()\n",
    "doc_dict_alpha"
   ]
  },
  {
   "cell_type": "markdown",
   "source": [
    "# Stemming and Preprocessing The Doc"
   ],
   "metadata": {
    "collapsed": false
   },
   "id": "75ee2c83a05a4eab"
  },
  {
   "cell_type": "code",
   "execution_count": 15,
   "id": "8456f5c2",
   "metadata": {
    "ExecuteTime": {
     "end_time": "2023-08-28T13:59:45.948438300Z",
     "start_time": "2023-08-28T13:59:45.942054800Z"
    }
   },
   "outputs": [
    {
     "data": {
      "text/plain": "{'file_1.txt': 'elast search big data text mine tool',\n 'file_2.txt': 'elast search help understand data',\n 'file_3.txt': 'big data use big inform',\n 'file_4.txt': 'anyth els much',\n 'file_5.txt': 'onlin freind father'}"
     },
     "execution_count": 15,
     "metadata": {},
     "output_type": "execute_result"
    }
   ],
   "source": [
    "doc_dict_beta = {\n",
    "    \n",
    "    \n",
    "    \n",
    "}\n",
    "for i in doc_dict_alpha:\n",
    "    res = []\n",
    "    for sub in doc_dict_alpha[i]:\n",
    "        res.append(sub.replace(\"\\n\", \"\"))\n",
    "    \n",
    "    doc_dict_beta[i] = Stemming_sentences(Pre_proccing_text(\" \".join(res).strip()))\n",
    "doc_dict_beta"
   ]
  },
  {
   "cell_type": "markdown",
   "source": [
    "# Inverted index Terms"
   ],
   "metadata": {
    "collapsed": false
   },
   "id": "a29d72e5e4063525"
  },
  {
   "cell_type": "code",
   "execution_count": 16,
   "id": "32195e3b",
   "metadata": {
    "ExecuteTime": {
     "end_time": "2023-08-28T13:59:47.948467300Z",
     "start_time": "2023-08-28T13:59:47.932169600Z"
    }
   },
   "outputs": [
    {
     "data": {
      "text/plain": "['els',\n 'much',\n 'help',\n 'big',\n 'tool',\n 'text',\n 'search',\n 'data',\n 'mine',\n 'understand',\n 'inform',\n 'use',\n 'freind',\n 'elast',\n 'father',\n 'onlin',\n 'anyth']"
     },
     "execution_count": 16,
     "metadata": {},
     "output_type": "execute_result"
    }
   ],
   "source": [
    "inverted_index_list_word = list()\n",
    "\n",
    "for i in doc_dict_beta:\n",
    "    \n",
    "    inverted_index_list_word.extend(doc_dict_beta[i].split())\n",
    "    \n",
    "inverted_index_list_word = list(set(inverted_index_list_word))\n",
    "inverted_index_list_word"
   ]
  },
  {
   "cell_type": "markdown",
   "id": "5ed7af8f",
   "metadata": {},
   "source": [
    "# Inverted Index"
   ]
  },
  {
   "cell_type": "code",
   "execution_count": 18,
   "id": "9d938c5c",
   "metadata": {
    "ExecuteTime": {
     "end_time": "2023-08-28T14:01:23.035284500Z",
     "start_time": "2023-08-28T14:01:23.020741300Z"
    }
   },
   "outputs": [
    {
     "data": {
      "text/plain": "{'els': ['file_4.txt'],\n 'much': ['file_4.txt'],\n 'help': ['file_2.txt'],\n 'big': ['file_1.txt', 'file_3.txt'],\n 'tool': ['file_1.txt'],\n 'text': ['file_1.txt'],\n 'search': ['file_1.txt', 'file_2.txt'],\n 'data': ['file_1.txt', 'file_2.txt', 'file_3.txt'],\n 'mine': ['file_1.txt'],\n 'understand': ['file_2.txt'],\n 'inform': ['file_3.txt'],\n 'use': ['file_3.txt'],\n 'freind': ['file_5.txt'],\n 'elast': ['file_1.txt', 'file_2.txt'],\n 'father': ['file_5.txt'],\n 'onlin': ['file_5.txt'],\n 'anyth': ['file_4.txt']}"
     },
     "execution_count": 18,
     "metadata": {},
     "output_type": "execute_result"
    }
   ],
   "source": [
    "inverted_index_dict_wrod = {\n",
    "    \n",
    "    \n",
    "}\n",
    "\n",
    "\n",
    "for i in inverted_index_list_word:\n",
    "    \n",
    "    doc_word_list = []\n",
    "    \n",
    "    for c in doc_dict_beta:\n",
    "        \n",
    "        if i in doc_dict_beta[c]:\n",
    "            doc_word_list.append(c)\n",
    "            \n",
    "    inverted_index_dict_wrod[i] = doc_word_list\n",
    "inverted_index_dict_wrod"
   ]
  },
  {
   "cell_type": "code",
   "execution_count": 19,
   "id": "bfefb28d",
   "metadata": {
    "ExecuteTime": {
     "end_time": "2023-08-28T14:01:27.974660700Z",
     "start_time": "2023-08-28T14:01:27.942591400Z"
    }
   },
   "outputs": [
    {
     "data": {
      "text/plain": "{'els': ['file_4.txt'],\n 'much': ['file_4.txt'],\n 'help': ['file_2.txt'],\n 'big': ['file_1.txt', 'file_3.txt'],\n 'tool': ['file_1.txt'],\n 'text': ['file_1.txt'],\n 'search': ['file_1.txt', 'file_2.txt'],\n 'data': ['file_1.txt', 'file_2.txt', 'file_3.txt'],\n 'mine': ['file_1.txt'],\n 'understand': ['file_2.txt'],\n 'inform': ['file_3.txt'],\n 'use': ['file_3.txt'],\n 'freind': ['file_5.txt'],\n 'elast': ['file_1.txt', 'file_2.txt'],\n 'father': ['file_5.txt'],\n 'onlin': ['file_5.txt'],\n 'anyth': ['file_4.txt']}"
     },
     "execution_count": 19,
     "metadata": {},
     "output_type": "execute_result"
    }
   ],
   "source": [
    "import json\n",
    "with open('result.json', 'w') as fp:\n",
    "    json.dump(inverted_index_dict_wrod, fp)\n",
    "new_inverted_index = json.load(open(\"result.json\")) \n",
    "new_inverted_index"
   ]
  },
  {
   "cell_type": "markdown",
   "source": [
    "# Query"
   ],
   "metadata": {
    "collapsed": false
   },
   "id": "a3395bc8f0b58ed5"
  },
  {
   "cell_type": "code",
   "execution_count": 21,
   "id": "2b11d217",
   "metadata": {
    "ExecuteTime": {
     "end_time": "2023-08-28T14:01:41.993167Z",
     "start_time": "2023-08-28T14:01:41.977270300Z"
    }
   },
   "outputs": [
    {
     "data": {
      "text/plain": "'elast search big data'"
     },
     "execution_count": 21,
     "metadata": {},
     "output_type": "execute_result"
    }
   ],
   "source": [
    "query = \"Elastic search in Big data \"\n",
    "\n",
    "stem_query = Stemming_sentences(Pre_proccing_text(query))\n",
    "stem_query"
   ]
  },
  {
   "cell_type": "markdown",
   "id": "6cfb0df9",
   "metadata": {},
   "source": [
    "# The Documents That Contain The Words In Query"
   ]
  },
  {
   "cell_type": "code",
   "execution_count": 22,
   "id": "fa4e6d5e",
   "metadata": {
    "ExecuteTime": {
     "end_time": "2023-08-28T14:01:44.008559200Z",
     "start_time": "2023-08-28T14:01:43.996391100Z"
    }
   },
   "outputs": [
    {
     "data": {
      "text/plain": "['file_3.txt', 'file_1.txt', 'file_2.txt']"
     },
     "execution_count": 22,
     "metadata": {},
     "output_type": "execute_result"
    }
   ],
   "source": [
    "set_of_doc_query = list()\n",
    "\n",
    "for i in new_inverted_index:\n",
    "    if i in stem_query.split():\n",
    "        set_of_doc_query.extend(new_inverted_index[i])\n",
    "\n",
    "set_of_doc_query = list(set(set_of_doc_query))\n",
    "set_of_doc_query"
   ]
  },
  {
   "cell_type": "code",
   "execution_count": 23,
   "id": "b3175811",
   "metadata": {
    "ExecuteTime": {
     "end_time": "2023-08-28T14:01:50.969382400Z",
     "start_time": "2023-08-28T14:01:50.967226Z"
    }
   },
   "outputs": [
    {
     "data": {
      "text/plain": "{'file_1.txt': 'elast search big data text mine tool',\n 'file_2.txt': 'elast search help understand data',\n 'file_3.txt': 'big data use big inform'}"
     },
     "execution_count": 23,
     "metadata": {},
     "output_type": "execute_result"
    }
   ],
   "source": [
    "doc_dict = {\n",
    "    \n",
    "    \n",
    "    \n",
    "}\n",
    "\n",
    "\n",
    "for i in sorted(set_of_doc_query):\n",
    "    doc_dict[i] = doc_dict_beta[i]\n",
    "    \n",
    "doc_dict"
   ]
  },
  {
   "cell_type": "markdown",
   "source": [
    "# Not Necessary Step for Doc"
   ],
   "metadata": {
    "collapsed": false
   },
   "id": "e16b462f569d63bf"
  },
  {
   "cell_type": "code",
   "execution_count": 25,
   "id": "13836874",
   "metadata": {
    "ExecuteTime": {
     "end_time": "2023-08-28T14:03:02.331062200Z",
     "start_time": "2023-08-28T14:03:02.331062200Z"
    }
   },
   "outputs": [
    {
     "name": "stdout",
     "output_type": "stream",
     "text": [
      " The file_1.txt : elast search big data text mine tool \n",
      " The file_2.txt : elast search help understand data \n",
      " The file_3.txt : big data use big inform \n",
      "******************************\n",
      "Query -- >  Elastic search in Big data \n"
     ]
    }
   ],
   "source": [
    "filtered_stopwords_punc_doc_dict = doc_dict.copy()\n",
    "\n",
    "for  i in filtered_stopwords_punc_doc_dict:\n",
    "    print(f\" The {i} : {filtered_stopwords_punc_doc_dict[i]} \")\n",
    "    \n",
    "print(\"*\" *30)\n",
    "print(f\"Query -- >  {query}\")"
   ]
  },
  {
   "cell_type": "markdown",
   "source": [
    "# Not Necessary Step for Doc"
   ],
   "metadata": {
    "collapsed": false
   },
   "id": "2e4b934786910a6c"
  },
  {
   "cell_type": "code",
   "execution_count": 27,
   "id": "dac45d91",
   "metadata": {
    "ExecuteTime": {
     "end_time": "2023-08-28T14:03:30.044058400Z",
     "start_time": "2023-08-28T14:03:30.039130Z"
    }
   },
   "outputs": [
    {
     "name": "stdout",
     "output_type": "stream",
     "text": [
      " The file_1.txt : elast search big data text mine tool \n",
      " The file_2.txt : elast search help understand data \n",
      " The file_3.txt : big data use big inform \n",
      "******************************\n",
      "Query -- >  elast search in big data\n"
     ]
    }
   ],
   "source": [
    "stemming_dict = dict()\n",
    "\n",
    "for i in filtered_stopwords_punc_doc_dict:\n",
    "    \n",
    "    stemming_dict[i] = Stemming_sentences(filtered_stopwords_punc_doc_dict[i])\n",
    "\n",
    "stem_query = Stemming_sentences(query)    \n",
    "    \n",
    "\n",
    "for  i in stemming_dict:\n",
    "    print(f\" The {i} : {stemming_dict[i]} \")\n",
    "    \n",
    "print(\"*\" *30)\n",
    "print(f\"Query -- >  {stem_query}\")"
   ]
  },
  {
   "cell_type": "markdown",
   "source": [
    "# All Terms in docs\n"
   ],
   "metadata": {
    "collapsed": false
   },
   "id": "c8b2cbb13ab197a0"
  },
  {
   "cell_type": "code",
   "execution_count": 28,
   "id": "d2987088",
   "metadata": {
    "ExecuteTime": {
     "end_time": "2023-08-28T14:04:10.371939200Z",
     "start_time": "2023-08-28T14:04:10.366051Z"
    }
   },
   "outputs": [
    {
     "data": {
      "text/plain": "['help',\n 'big',\n 'tool',\n 'text',\n 'search',\n 'data',\n 'mine',\n 'understand',\n 'inform',\n 'use',\n 'elast']"
     },
     "execution_count": 28,
     "metadata": {},
     "output_type": "execute_result"
    }
   ],
   "source": [
    "set_of_words = set()\n",
    "list_of_words = []\n",
    "for i in stemming_dict.values():\n",
    "    \n",
    "    for c in set(i.split(\" \")):\n",
    "        set_of_words.add(c)\n",
    "        list_of_words.append(c)\n",
    "set_of_words = list(set_of_words)\n",
    "set_of_words"
   ]
  },
  {
   "cell_type": "code",
   "execution_count": 29,
   "id": "44de8c7b",
   "metadata": {
    "ExecuteTime": {
     "end_time": "2023-08-28T14:04:10.867880100Z",
     "start_time": "2023-08-28T14:04:10.836412200Z"
    }
   },
   "outputs": [
    {
     "data": {
      "text/plain": "['big',\n 'tool',\n 'text',\n 'search',\n 'data',\n 'mine',\n 'elast',\n 'help',\n 'search',\n 'data',\n 'understand',\n 'elast',\n 'data',\n 'inform',\n 'big',\n 'use']"
     },
     "execution_count": 29,
     "metadata": {},
     "output_type": "execute_result"
    }
   ],
   "source": [
    "list_of_words"
   ]
  },
  {
   "cell_type": "markdown",
   "source": [
    "# df IDF Table"
   ],
   "metadata": {
    "collapsed": false
   },
   "id": "40ee13776789b47f"
  },
  {
   "cell_type": "code",
   "execution_count": 31,
   "id": "52b9b8a1",
   "metadata": {
    "ExecuteTime": {
     "end_time": "2023-08-28T14:04:25.886192100Z",
     "start_time": "2023-08-28T14:04:25.870490500Z"
    }
   },
   "outputs": [
    {
     "data": {
      "text/plain": "         terms  DocFreq  IDF\n0          big        0    0\n1         data        0    0\n2        elast        0    0\n3         help        0    0\n4       inform        0    0\n5         mine        0    0\n6       search        0    0\n7         text        0    0\n8         tool        0    0\n9   understand        0    0\n10         use        0    0",
      "text/html": "<div>\n<style scoped>\n    .dataframe tbody tr th:only-of-type {\n        vertical-align: middle;\n    }\n\n    .dataframe tbody tr th {\n        vertical-align: top;\n    }\n\n    .dataframe thead th {\n        text-align: right;\n    }\n</style>\n<table border=\"1\" class=\"dataframe\">\n  <thead>\n    <tr style=\"text-align: right;\">\n      <th></th>\n      <th>terms</th>\n      <th>DocFreq</th>\n      <th>IDF</th>\n    </tr>\n  </thead>\n  <tbody>\n    <tr>\n      <th>0</th>\n      <td>big</td>\n      <td>0</td>\n      <td>0</td>\n    </tr>\n    <tr>\n      <th>1</th>\n      <td>data</td>\n      <td>0</td>\n      <td>0</td>\n    </tr>\n    <tr>\n      <th>2</th>\n      <td>elast</td>\n      <td>0</td>\n      <td>0</td>\n    </tr>\n    <tr>\n      <th>3</th>\n      <td>help</td>\n      <td>0</td>\n      <td>0</td>\n    </tr>\n    <tr>\n      <th>4</th>\n      <td>inform</td>\n      <td>0</td>\n      <td>0</td>\n    </tr>\n    <tr>\n      <th>5</th>\n      <td>mine</td>\n      <td>0</td>\n      <td>0</td>\n    </tr>\n    <tr>\n      <th>6</th>\n      <td>search</td>\n      <td>0</td>\n      <td>0</td>\n    </tr>\n    <tr>\n      <th>7</th>\n      <td>text</td>\n      <td>0</td>\n      <td>0</td>\n    </tr>\n    <tr>\n      <th>8</th>\n      <td>tool</td>\n      <td>0</td>\n      <td>0</td>\n    </tr>\n    <tr>\n      <th>9</th>\n      <td>understand</td>\n      <td>0</td>\n      <td>0</td>\n    </tr>\n    <tr>\n      <th>10</th>\n      <td>use</td>\n      <td>0</td>\n      <td>0</td>\n    </tr>\n  </tbody>\n</table>\n</div>"
     },
     "execution_count": 31,
     "metadata": {},
     "output_type": "execute_result"
    }
   ],
   "source": [
    "import pandas as pd\n",
    "import numpy as np\n",
    "docfreq_idf_dict = {\n",
    "    \n",
    "    \"terms\" : set_of_words,\n",
    "    \n",
    "    \"DocFreq\" : [i * 0 for i in range(len(set_of_words))],\n",
    "    \n",
    "    \"IDF\" : [i * 0 for i in range(len(set_of_words))]\n",
    "    \n",
    "}\n",
    "\n",
    "docfreq_idf_df = pd.DataFrame(docfreq_idf_dict).sort_values(by = 'terms').reset_index(drop=True)\n",
    "docfreq_idf_df"
   ]
  },
  {
   "cell_type": "markdown",
   "source": [
    "# Calculate DocFreq-IDF"
   ],
   "metadata": {
    "collapsed": false
   },
   "id": "f1865ad1dcfbf433"
  },
  {
   "cell_type": "code",
   "execution_count": 34,
   "id": "05b0ccd9",
   "metadata": {
    "ExecuteTime": {
     "end_time": "2023-08-28T14:07:44.758069400Z",
     "start_time": "2023-08-28T14:07:44.749964400Z"
    }
   },
   "outputs": [
    {
     "data": {
      "text/plain": "         terms  DocFreq       IDF\n1          big        2  0.176091\n2         data        3  0.000000\n3        elast        2  0.176091\n4         help        1  0.477121\n5       inform        1  0.477121\n6         mine        1  0.477121\n7       search        2  0.176091\n8         text        1  0.477121\n9         tool        1  0.477121\n10  understand        1  0.477121\n11         use        1  0.477121",
      "text/html": "<div>\n<style scoped>\n    .dataframe tbody tr th:only-of-type {\n        vertical-align: middle;\n    }\n\n    .dataframe tbody tr th {\n        vertical-align: top;\n    }\n\n    .dataframe thead th {\n        text-align: right;\n    }\n</style>\n<table border=\"1\" class=\"dataframe\">\n  <thead>\n    <tr style=\"text-align: right;\">\n      <th></th>\n      <th>terms</th>\n      <th>DocFreq</th>\n      <th>IDF</th>\n    </tr>\n  </thead>\n  <tbody>\n    <tr>\n      <th>1</th>\n      <td>big</td>\n      <td>2</td>\n      <td>0.176091</td>\n    </tr>\n    <tr>\n      <th>2</th>\n      <td>data</td>\n      <td>3</td>\n      <td>0.000000</td>\n    </tr>\n    <tr>\n      <th>3</th>\n      <td>elast</td>\n      <td>2</td>\n      <td>0.176091</td>\n    </tr>\n    <tr>\n      <th>4</th>\n      <td>help</td>\n      <td>1</td>\n      <td>0.477121</td>\n    </tr>\n    <tr>\n      <th>5</th>\n      <td>inform</td>\n      <td>1</td>\n      <td>0.477121</td>\n    </tr>\n    <tr>\n      <th>6</th>\n      <td>mine</td>\n      <td>1</td>\n      <td>0.477121</td>\n    </tr>\n    <tr>\n      <th>7</th>\n      <td>search</td>\n      <td>2</td>\n      <td>0.176091</td>\n    </tr>\n    <tr>\n      <th>8</th>\n      <td>text</td>\n      <td>1</td>\n      <td>0.477121</td>\n    </tr>\n    <tr>\n      <th>9</th>\n      <td>tool</td>\n      <td>1</td>\n      <td>0.477121</td>\n    </tr>\n    <tr>\n      <th>10</th>\n      <td>understand</td>\n      <td>1</td>\n      <td>0.477121</td>\n    </tr>\n    <tr>\n      <th>11</th>\n      <td>use</td>\n      <td>1</td>\n      <td>0.477121</td>\n    </tr>\n  </tbody>\n</table>\n</div>"
     },
     "execution_count": 34,
     "metadata": {},
     "output_type": "execute_result"
    }
   ],
   "source": [
    "for i in list(docfreq_idf_df.index):\n",
    "    \n",
    "    doc_freq_term = list_of_words.count(docfreq_idf_df.loc[i,\"terms\"])\n",
    "    \n",
    "    docfreq_idf_df.loc[i,\"DocFreq\"] = doc_freq_term\n",
    "    docfreq_idf_df.loc[i,\"IDF\"]  = np.log10(len(doc_dict) / doc_freq_term)\n",
    "\n",
    "docfreq_idf_df.index =  docfreq_idf_df.index +1 \n",
    "docfreq_idf_df"
   ]
  },
  {
   "cell_type": "markdown",
   "source": [
    "# Tf Table"
   ],
   "metadata": {
    "collapsed": false
   },
   "id": "f595b9f4e547203c"
  },
  {
   "cell_type": "code",
   "execution_count": 35,
   "id": "c1dd34ae",
   "metadata": {
    "ExecuteTime": {
     "end_time": "2023-08-28T14:07:45.161927600Z",
     "start_time": "2023-08-28T14:07:45.159589600Z"
    }
   },
   "outputs": [
    {
     "data": {
      "text/plain": "array([[0., 0., 0., 0., 0., 0., 0., 0., 0., 0., 0.],\n       [0., 0., 0., 0., 0., 0., 0., 0., 0., 0., 0.],\n       [0., 0., 0., 0., 0., 0., 0., 0., 0., 0., 0.],\n       [0., 0., 0., 0., 0., 0., 0., 0., 0., 0., 0.]])"
     },
     "execution_count": 35,
     "metadata": {},
     "output_type": "execute_result"
    }
   ],
   "source": [
    "array_for_weight_freq_df = np.zeros((len(doc_dict)+1,len(docfreq_idf_df.index)))\n",
    "array_for_weight_freq_df"
   ]
  },
  {
   "cell_type": "code",
   "execution_count": 36,
   "id": "e579b7d4",
   "metadata": {
    "ExecuteTime": {
     "end_time": "2023-08-28T14:07:45.359669400Z",
     "start_time": "2023-08-28T14:07:45.348708300Z"
    }
   },
   "outputs": [
    {
     "data": {
      "text/plain": "             T1   T2   T3   T4   T5   T6   T7   T8   T9  T10  T11\nfile_1.txt  0.0  0.0  0.0  0.0  0.0  0.0  0.0  0.0  0.0  0.0  0.0\nfile_2.txt  0.0  0.0  0.0  0.0  0.0  0.0  0.0  0.0  0.0  0.0  0.0\nfile_3.txt  0.0  0.0  0.0  0.0  0.0  0.0  0.0  0.0  0.0  0.0  0.0\nQ           0.0  0.0  0.0  0.0  0.0  0.0  0.0  0.0  0.0  0.0  0.0",
      "text/html": "<div>\n<style scoped>\n    .dataframe tbody tr th:only-of-type {\n        vertical-align: middle;\n    }\n\n    .dataframe tbody tr th {\n        vertical-align: top;\n    }\n\n    .dataframe thead th {\n        text-align: right;\n    }\n</style>\n<table border=\"1\" class=\"dataframe\">\n  <thead>\n    <tr style=\"text-align: right;\">\n      <th></th>\n      <th>T1</th>\n      <th>T2</th>\n      <th>T3</th>\n      <th>T4</th>\n      <th>T5</th>\n      <th>T6</th>\n      <th>T7</th>\n      <th>T8</th>\n      <th>T9</th>\n      <th>T10</th>\n      <th>T11</th>\n    </tr>\n  </thead>\n  <tbody>\n    <tr>\n      <th>file_1.txt</th>\n      <td>0.0</td>\n      <td>0.0</td>\n      <td>0.0</td>\n      <td>0.0</td>\n      <td>0.0</td>\n      <td>0.0</td>\n      <td>0.0</td>\n      <td>0.0</td>\n      <td>0.0</td>\n      <td>0.0</td>\n      <td>0.0</td>\n    </tr>\n    <tr>\n      <th>file_2.txt</th>\n      <td>0.0</td>\n      <td>0.0</td>\n      <td>0.0</td>\n      <td>0.0</td>\n      <td>0.0</td>\n      <td>0.0</td>\n      <td>0.0</td>\n      <td>0.0</td>\n      <td>0.0</td>\n      <td>0.0</td>\n      <td>0.0</td>\n    </tr>\n    <tr>\n      <th>file_3.txt</th>\n      <td>0.0</td>\n      <td>0.0</td>\n      <td>0.0</td>\n      <td>0.0</td>\n      <td>0.0</td>\n      <td>0.0</td>\n      <td>0.0</td>\n      <td>0.0</td>\n      <td>0.0</td>\n      <td>0.0</td>\n      <td>0.0</td>\n    </tr>\n    <tr>\n      <th>Q</th>\n      <td>0.0</td>\n      <td>0.0</td>\n      <td>0.0</td>\n      <td>0.0</td>\n      <td>0.0</td>\n      <td>0.0</td>\n      <td>0.0</td>\n      <td>0.0</td>\n      <td>0.0</td>\n      <td>0.0</td>\n      <td>0.0</td>\n    </tr>\n  </tbody>\n</table>\n</div>"
     },
     "execution_count": 36,
     "metadata": {},
     "output_type": "execute_result"
    }
   ],
   "source": [
    "df_for_weight_freq_df = pd.DataFrame(array_for_weight_freq_df,\n",
    "                                     columns = [f\"T{i}\" for i in docfreq_idf_df.index],index  = [i for i in doc_dict] + ['Q'])\n",
    "df_for_weight_freq_df"
   ]
  },
  {
   "cell_type": "markdown",
   "source": [
    "# Calculate Tf Table"
   ],
   "metadata": {
    "collapsed": false
   },
   "id": "a2bf380ed974df3c"
  },
  {
   "cell_type": "code",
   "execution_count": 37,
   "id": "358aae64",
   "metadata": {
    "ExecuteTime": {
     "end_time": "2023-08-28T14:07:46.144188900Z",
     "start_time": "2023-08-28T14:07:46.112815100Z"
    }
   },
   "outputs": [
    {
     "data": {
      "text/plain": "             T1   T2   T3   T4   T5   T6   T7   T8   T9  T10  T11\nfile_1.txt  1.0  1.0  1.0  0.0  0.0  1.0  1.0  1.0  1.0  0.0  0.0\nfile_2.txt  0.0  1.0  1.0  1.0  0.0  0.0  1.0  0.0  0.0  1.0  0.0\nfile_3.txt  2.0  1.0  0.0  0.0  1.0  0.0  0.0  0.0  0.0  0.0  1.0\nQ           1.0  1.0  1.0  0.0  0.0  0.0  1.0  0.0  0.0  0.0  0.0",
      "text/html": "<div>\n<style scoped>\n    .dataframe tbody tr th:only-of-type {\n        vertical-align: middle;\n    }\n\n    .dataframe tbody tr th {\n        vertical-align: top;\n    }\n\n    .dataframe thead th {\n        text-align: right;\n    }\n</style>\n<table border=\"1\" class=\"dataframe\">\n  <thead>\n    <tr style=\"text-align: right;\">\n      <th></th>\n      <th>T1</th>\n      <th>T2</th>\n      <th>T3</th>\n      <th>T4</th>\n      <th>T5</th>\n      <th>T6</th>\n      <th>T7</th>\n      <th>T8</th>\n      <th>T9</th>\n      <th>T10</th>\n      <th>T11</th>\n    </tr>\n  </thead>\n  <tbody>\n    <tr>\n      <th>file_1.txt</th>\n      <td>1.0</td>\n      <td>1.0</td>\n      <td>1.0</td>\n      <td>0.0</td>\n      <td>0.0</td>\n      <td>1.0</td>\n      <td>1.0</td>\n      <td>1.0</td>\n      <td>1.0</td>\n      <td>0.0</td>\n      <td>0.0</td>\n    </tr>\n    <tr>\n      <th>file_2.txt</th>\n      <td>0.0</td>\n      <td>1.0</td>\n      <td>1.0</td>\n      <td>1.0</td>\n      <td>0.0</td>\n      <td>0.0</td>\n      <td>1.0</td>\n      <td>0.0</td>\n      <td>0.0</td>\n      <td>1.0</td>\n      <td>0.0</td>\n    </tr>\n    <tr>\n      <th>file_3.txt</th>\n      <td>2.0</td>\n      <td>1.0</td>\n      <td>0.0</td>\n      <td>0.0</td>\n      <td>1.0</td>\n      <td>0.0</td>\n      <td>0.0</td>\n      <td>0.0</td>\n      <td>0.0</td>\n      <td>0.0</td>\n      <td>1.0</td>\n    </tr>\n    <tr>\n      <th>Q</th>\n      <td>1.0</td>\n      <td>1.0</td>\n      <td>1.0</td>\n      <td>0.0</td>\n      <td>0.0</td>\n      <td>0.0</td>\n      <td>1.0</td>\n      <td>0.0</td>\n      <td>0.0</td>\n      <td>0.0</td>\n      <td>0.0</td>\n    </tr>\n  </tbody>\n</table>\n</div>"
     },
     "execution_count": 37,
     "metadata": {},
     "output_type": "execute_result"
    }
   ],
   "source": [
    "df_for_freq_df = df_for_weight_freq_df.copy()\n",
    "\n",
    "for i in df_for_weight_freq_df.index:\n",
    "    \n",
    "    \n",
    "    if i == 'Q':\n",
    "        continue\n",
    "    \n",
    "    for c in df_for_weight_freq_df.columns:\n",
    "        \n",
    "        term_freq_doc = stemming_dict[i].split(\" \").count(docfreq_idf_df.loc[int(c[1:]),\"terms\"])\n",
    "        \n",
    "        df_for_freq_df.loc[i,c] = term_freq_doc\n",
    "        \n",
    "\n",
    "for c in df_for_weight_freq_df.columns:\n",
    "    \n",
    "    term_freq_query = stem_query.split(\" \").count(docfreq_idf_df.loc[int(c[1:]),\"terms\"])\n",
    "    \n",
    "    df_for_freq_df.loc[\"Q\",c] = term_freq_query\n",
    "\n",
    "\n",
    "df_for_freq_df"
   ]
  },
  {
   "cell_type": "markdown",
   "source": [
    "# Calculate Weight Table"
   ],
   "metadata": {
    "collapsed": false
   },
   "id": "79e14fa401cc3dcf"
  },
  {
   "cell_type": "code",
   "execution_count": 38,
   "id": "884255c9",
   "metadata": {
    "ExecuteTime": {
     "end_time": "2023-08-28T14:07:47.028412900Z",
     "start_time": "2023-08-28T14:07:47.012523500Z"
    }
   },
   "outputs": [
    {
     "data": {
      "text/plain": "                  T1   T2        T3        T4        T5        T6        T7  \\\nfile_1.txt  0.176091  0.0  0.176091  0.000000  0.000000  0.477121  0.176091   \nfile_2.txt  0.000000  0.0  0.176091  0.477121  0.000000  0.000000  0.176091   \nfile_3.txt  0.352183  0.0  0.000000  0.000000  0.477121  0.000000  0.000000   \nQ           0.176091  0.0  0.176091  0.000000  0.000000  0.000000  0.176091   \n\n                  T8        T9       T10       T11  \nfile_1.txt  0.477121  0.477121  0.000000  0.000000  \nfile_2.txt  0.000000  0.000000  0.477121  0.000000  \nfile_3.txt  0.000000  0.000000  0.000000  0.477121  \nQ           0.000000  0.000000  0.000000  0.000000  ",
      "text/html": "<div>\n<style scoped>\n    .dataframe tbody tr th:only-of-type {\n        vertical-align: middle;\n    }\n\n    .dataframe tbody tr th {\n        vertical-align: top;\n    }\n\n    .dataframe thead th {\n        text-align: right;\n    }\n</style>\n<table border=\"1\" class=\"dataframe\">\n  <thead>\n    <tr style=\"text-align: right;\">\n      <th></th>\n      <th>T1</th>\n      <th>T2</th>\n      <th>T3</th>\n      <th>T4</th>\n      <th>T5</th>\n      <th>T6</th>\n      <th>T7</th>\n      <th>T8</th>\n      <th>T9</th>\n      <th>T10</th>\n      <th>T11</th>\n    </tr>\n  </thead>\n  <tbody>\n    <tr>\n      <th>file_1.txt</th>\n      <td>0.176091</td>\n      <td>0.0</td>\n      <td>0.176091</td>\n      <td>0.000000</td>\n      <td>0.000000</td>\n      <td>0.477121</td>\n      <td>0.176091</td>\n      <td>0.477121</td>\n      <td>0.477121</td>\n      <td>0.000000</td>\n      <td>0.000000</td>\n    </tr>\n    <tr>\n      <th>file_2.txt</th>\n      <td>0.000000</td>\n      <td>0.0</td>\n      <td>0.176091</td>\n      <td>0.477121</td>\n      <td>0.000000</td>\n      <td>0.000000</td>\n      <td>0.176091</td>\n      <td>0.000000</td>\n      <td>0.000000</td>\n      <td>0.477121</td>\n      <td>0.000000</td>\n    </tr>\n    <tr>\n      <th>file_3.txt</th>\n      <td>0.352183</td>\n      <td>0.0</td>\n      <td>0.000000</td>\n      <td>0.000000</td>\n      <td>0.477121</td>\n      <td>0.000000</td>\n      <td>0.000000</td>\n      <td>0.000000</td>\n      <td>0.000000</td>\n      <td>0.000000</td>\n      <td>0.477121</td>\n    </tr>\n    <tr>\n      <th>Q</th>\n      <td>0.176091</td>\n      <td>0.0</td>\n      <td>0.176091</td>\n      <td>0.000000</td>\n      <td>0.000000</td>\n      <td>0.000000</td>\n      <td>0.176091</td>\n      <td>0.000000</td>\n      <td>0.000000</td>\n      <td>0.000000</td>\n      <td>0.000000</td>\n    </tr>\n  </tbody>\n</table>\n</div>"
     },
     "execution_count": 38,
     "metadata": {},
     "output_type": "execute_result"
    }
   ],
   "source": [
    "df_for_weight_df = df_for_weight_freq_df.copy()\n",
    "\n",
    "for i in df_for_weight_freq_df.index:\n",
    "    \n",
    "    \n",
    "    if i == 'Q':\n",
    "        continue\n",
    "    \n",
    "    for c in df_for_weight_freq_df.columns:\n",
    "        \n",
    "        term_freq_doc = stemming_dict[i].split(\" \").count(docfreq_idf_df.loc[int(c[1:]),\"terms\"])\n",
    "        \n",
    "        idf = docfreq_idf_df.loc[int(c[1:]),\"IDF\"]\n",
    "        \n",
    "        df_for_weight_df.loc[i,c] = term_freq_doc * idf\n",
    "        \n",
    "\n",
    "for c in df_for_weight_freq_df.columns:\n",
    "    \n",
    "    term_freq_query = stem_query.split(\" \").count(docfreq_idf_df.loc[int(c[1:]),\"terms\"])\n",
    "    \n",
    "    idf = docfreq_idf_df.loc[int(c[1:]),\"IDF\"]\n",
    "    \n",
    "    df_for_weight_df.loc[\"Q\",c] = term_freq_query * idf\n",
    "\n",
    "\n",
    "df_for_weight_df"
   ]
  },
  {
   "cell_type": "code",
   "execution_count": 39,
   "id": "a93fcbfb",
   "metadata": {
    "ExecuteTime": {
     "end_time": "2023-08-28T14:07:47.437302900Z",
     "start_time": "2023-08-28T14:07:47.421512900Z"
    }
   },
   "outputs": [
    {
     "data": {
      "text/plain": "            inner  cosine  jaccard  dice\nfile_1.txt    0.0     0.0      0.0   0.0\nfile_2.txt    0.0     0.0      0.0   0.0\nfile_3.txt    0.0     0.0      0.0   0.0",
      "text/html": "<div>\n<style scoped>\n    .dataframe tbody tr th:only-of-type {\n        vertical-align: middle;\n    }\n\n    .dataframe tbody tr th {\n        vertical-align: top;\n    }\n\n    .dataframe thead th {\n        text-align: right;\n    }\n</style>\n<table border=\"1\" class=\"dataframe\">\n  <thead>\n    <tr style=\"text-align: right;\">\n      <th></th>\n      <th>inner</th>\n      <th>cosine</th>\n      <th>jaccard</th>\n      <th>dice</th>\n    </tr>\n  </thead>\n  <tbody>\n    <tr>\n      <th>file_1.txt</th>\n      <td>0.0</td>\n      <td>0.0</td>\n      <td>0.0</td>\n      <td>0.0</td>\n    </tr>\n    <tr>\n      <th>file_2.txt</th>\n      <td>0.0</td>\n      <td>0.0</td>\n      <td>0.0</td>\n      <td>0.0</td>\n    </tr>\n    <tr>\n      <th>file_3.txt</th>\n      <td>0.0</td>\n      <td>0.0</td>\n      <td>0.0</td>\n      <td>0.0</td>\n    </tr>\n  </tbody>\n</table>\n</div>"
     },
     "execution_count": 39,
     "metadata": {},
     "output_type": "execute_result"
    }
   ],
   "source": [
    "\n",
    "methods_result = ['inner',\"cosine\",\"jaccard\",\"dice\"]\n",
    "\n",
    "\n",
    "df_result = pd.DataFrame(np.zeros((len(doc_dict),4)),index = doc_dict.keys() ,columns = methods_result)\n",
    "df_result"
   ]
  },
  {
   "cell_type": "markdown",
   "source": [
    "# Result Table"
   ],
   "metadata": {
    "collapsed": false
   },
   "id": "a7ba4cf08215d94b"
  },
  {
   "cell_type": "code",
   "execution_count": 40,
   "outputs": [
    {
     "data": {
      "text/plain": "            inner  cosine  jaccard  dice\nfile_1.txt    0.0     0.0      0.0   0.0\nfile_2.txt    0.0     0.0      0.0   0.0\nfile_3.txt    0.0     0.0      0.0   0.0",
      "text/html": "<div>\n<style scoped>\n    .dataframe tbody tr th:only-of-type {\n        vertical-align: middle;\n    }\n\n    .dataframe tbody tr th {\n        vertical-align: top;\n    }\n\n    .dataframe thead th {\n        text-align: right;\n    }\n</style>\n<table border=\"1\" class=\"dataframe\">\n  <thead>\n    <tr style=\"text-align: right;\">\n      <th></th>\n      <th>inner</th>\n      <th>cosine</th>\n      <th>jaccard</th>\n      <th>dice</th>\n    </tr>\n  </thead>\n  <tbody>\n    <tr>\n      <th>file_1.txt</th>\n      <td>0.0</td>\n      <td>0.0</td>\n      <td>0.0</td>\n      <td>0.0</td>\n    </tr>\n    <tr>\n      <th>file_2.txt</th>\n      <td>0.0</td>\n      <td>0.0</td>\n      <td>0.0</td>\n      <td>0.0</td>\n    </tr>\n    <tr>\n      <th>file_3.txt</th>\n      <td>0.0</td>\n      <td>0.0</td>\n      <td>0.0</td>\n      <td>0.0</td>\n    </tr>\n  </tbody>\n</table>\n</div>"
     },
     "execution_count": 40,
     "metadata": {},
     "output_type": "execute_result"
    }
   ],
   "source": [
    "\n",
    "methods_result = ['inner',\"cosine\",\"jaccard\",\"dice\"]\n",
    "\n",
    "\n",
    "df_result = pd.DataFrame(np.zeros((len(doc_dict),4)),index = doc_dict.keys() ,columns = methods_result)\n",
    "df_result"
   ],
   "metadata": {
    "collapsed": false,
    "ExecuteTime": {
     "end_time": "2023-08-28T14:07:48.874946300Z",
     "start_time": "2023-08-28T14:07:48.859204700Z"
    }
   },
   "id": "43338b38c1bb5d1f"
  },
  {
   "cell_type": "markdown",
   "source": [
    "# Inner Product"
   ],
   "metadata": {
    "collapsed": false
   },
   "id": "d2b628e5b21f96ed"
  },
  {
   "cell_type": "code",
   "execution_count": 41,
   "outputs": [
    {
     "data": {
      "text/plain": "               inner  cosine  jaccard  dice\nfile_1.txt  0.093024     0.0      0.0   0.0\nfile_2.txt  0.062016     0.0      0.0   0.0\nfile_3.txt  0.062016     0.0      0.0   0.0",
      "text/html": "<div>\n<style scoped>\n    .dataframe tbody tr th:only-of-type {\n        vertical-align: middle;\n    }\n\n    .dataframe tbody tr th {\n        vertical-align: top;\n    }\n\n    .dataframe thead th {\n        text-align: right;\n    }\n</style>\n<table border=\"1\" class=\"dataframe\">\n  <thead>\n    <tr style=\"text-align: right;\">\n      <th></th>\n      <th>inner</th>\n      <th>cosine</th>\n      <th>jaccard</th>\n      <th>dice</th>\n    </tr>\n  </thead>\n  <tbody>\n    <tr>\n      <th>file_1.txt</th>\n      <td>0.093024</td>\n      <td>0.0</td>\n      <td>0.0</td>\n      <td>0.0</td>\n    </tr>\n    <tr>\n      <th>file_2.txt</th>\n      <td>0.062016</td>\n      <td>0.0</td>\n      <td>0.0</td>\n      <td>0.0</td>\n    </tr>\n    <tr>\n      <th>file_3.txt</th>\n      <td>0.062016</td>\n      <td>0.0</td>\n      <td>0.0</td>\n      <td>0.0</td>\n    </tr>\n  </tbody>\n</table>\n</div>"
     },
     "execution_count": 41,
     "metadata": {},
     "output_type": "execute_result"
    }
   ],
   "source": [
    "# FIRST METHOD , inner product ∑(𝒅𝒊𝒌.𝒒𝒌)\n",
    "\n",
    "# Calculate the inner product between query and documents weights\n",
    "query_weights = df_for_weight_df.loc['Q']\n",
    "doc_weights = df_for_weight_df.drop('Q')\n",
    "\n",
    "inner_product = doc_weights.dot(query_weights)\n",
    "\n",
    "df_result[\"inner\"]=inner_product\n",
    "\n",
    "df_result"
   ],
   "metadata": {
    "collapsed": false,
    "ExecuteTime": {
     "end_time": "2023-08-28T14:07:50.247610400Z",
     "start_time": "2023-08-28T14:07:50.227047800Z"
    }
   },
   "id": "1f8e6617157e98f0"
  },
  {
   "cell_type": "markdown",
   "source": [
    "# Cosine\n"
   ],
   "metadata": {
    "collapsed": false
   },
   "id": "b04b3c8cf475e01e"
  },
  {
   "cell_type": "code",
   "execution_count": 42,
   "outputs": [
    {
     "data": {
      "text/plain": "               inner    cosine  jaccard  dice\nfile_1.txt  0.093024  0.755929      0.0   0.0\nfile_2.txt  0.062016  0.670820      0.0   0.0\nfile_3.txt  0.062016  0.566947      0.0   0.0",
      "text/html": "<div>\n<style scoped>\n    .dataframe tbody tr th:only-of-type {\n        vertical-align: middle;\n    }\n\n    .dataframe tbody tr th {\n        vertical-align: top;\n    }\n\n    .dataframe thead th {\n        text-align: right;\n    }\n</style>\n<table border=\"1\" class=\"dataframe\">\n  <thead>\n    <tr style=\"text-align: right;\">\n      <th></th>\n      <th>inner</th>\n      <th>cosine</th>\n      <th>jaccard</th>\n      <th>dice</th>\n    </tr>\n  </thead>\n  <tbody>\n    <tr>\n      <th>file_1.txt</th>\n      <td>0.093024</td>\n      <td>0.755929</td>\n      <td>0.0</td>\n      <td>0.0</td>\n    </tr>\n    <tr>\n      <th>file_2.txt</th>\n      <td>0.062016</td>\n      <td>0.670820</td>\n      <td>0.0</td>\n      <td>0.0</td>\n    </tr>\n    <tr>\n      <th>file_3.txt</th>\n      <td>0.062016</td>\n      <td>0.566947</td>\n      <td>0.0</td>\n      <td>0.0</td>\n    </tr>\n  </tbody>\n</table>\n</div>"
     },
     "execution_count": 42,
     "metadata": {},
     "output_type": "execute_result"
    }
   ],
   "source": [
    "\n",
    "# SECONDE METHOD , cosine\n",
    "\n",
    "query_tf = df_for_freq_df.loc['Q']\n",
    "doc_tf = df_for_freq_df.drop('Q')\n",
    "\n",
    "#Numerator :\n",
    "dot_products = doc_tf.dot(query_tf)\n",
    "\n",
    "#denominator :\n",
    "#length for doc and query\n",
    "len_query = np.sqrt(np.sum(np.square(query_tf)))\n",
    "\n",
    "len_docs = np.sqrt(np.sum(np.square(doc_tf), axis=1))\n",
    "\n",
    "cosine = dot_products / (len_docs * len_query)\n",
    "\n",
    "df_result[\"cosine\"]=cosine\n",
    "\n",
    "df_result"
   ],
   "metadata": {
    "collapsed": false,
    "ExecuteTime": {
     "end_time": "2023-08-28T14:07:51.030880600Z",
     "start_time": "2023-08-28T14:07:50.999268300Z"
    }
   },
   "id": "af49d3ba9d60bf65"
  },
  {
   "cell_type": "markdown",
   "source": [
    "# Jaccard"
   ],
   "metadata": {
    "collapsed": false
   },
   "id": "a8edf57ced92cc30"
  },
  {
   "cell_type": "code",
   "execution_count": 43,
   "outputs": [
    {
     "data": {
      "text/plain": "               inner    cosine   jaccard  dice\nfile_1.txt  0.093024  0.755929  0.119883   0.0\nfile_2.txt  0.062016  0.670820  0.113104   0.0\nfile_3.txt  0.062016  0.566947  0.101611   0.0",
      "text/html": "<div>\n<style scoped>\n    .dataframe tbody tr th:only-of-type {\n        vertical-align: middle;\n    }\n\n    .dataframe tbody tr th {\n        vertical-align: top;\n    }\n\n    .dataframe thead th {\n        text-align: right;\n    }\n</style>\n<table border=\"1\" class=\"dataframe\">\n  <thead>\n    <tr style=\"text-align: right;\">\n      <th></th>\n      <th>inner</th>\n      <th>cosine</th>\n      <th>jaccard</th>\n      <th>dice</th>\n    </tr>\n  </thead>\n  <tbody>\n    <tr>\n      <th>file_1.txt</th>\n      <td>0.093024</td>\n      <td>0.755929</td>\n      <td>0.119883</td>\n      <td>0.0</td>\n    </tr>\n    <tr>\n      <th>file_2.txt</th>\n      <td>0.062016</td>\n      <td>0.670820</td>\n      <td>0.113104</td>\n      <td>0.0</td>\n    </tr>\n    <tr>\n      <th>file_3.txt</th>\n      <td>0.062016</td>\n      <td>0.566947</td>\n      <td>0.101611</td>\n      <td>0.0</td>\n    </tr>\n  </tbody>\n</table>\n</div>"
     },
     "execution_count": 43,
     "metadata": {},
     "output_type": "execute_result"
    }
   ],
   "source": [
    "\n",
    "# THIRD METHOD , jaccard : i𝒏𝒏𝒆𝒓 𝒑𝒓𝒐𝒅𝒖𝒄𝒕/(∑𝒅𝟐ⅈ𝒌. + ∑𝒒𝟐𝒌−𝒊𝒏𝒏𝒆𝒓 𝒑𝒓𝒐𝒅𝒖𝒄𝒕)\n",
    "\n",
    "squared_weights_query= np.sum(np.square(query_weights))\n",
    "sum_squared_weights = np.square(doc_weights).sum(axis=1)\n",
    "Jaccard = inner_product / (squared_weights_query + sum_squared_weights - inner_product)\n",
    "df_result[\"jaccard\"]=Jaccard\n",
    "df_result"
   ],
   "metadata": {
    "collapsed": false,
    "ExecuteTime": {
     "end_time": "2023-08-28T14:07:51.427255800Z",
     "start_time": "2023-08-28T14:07:51.411188Z"
    }
   },
   "id": "a9d75b2e034baf18"
  },
  {
   "cell_type": "markdown",
   "source": [
    "# dice"
   ],
   "metadata": {
    "collapsed": false
   },
   "id": "f0a31f0f3efa4eb3"
  },
  {
   "cell_type": "code",
   "execution_count": 44,
   "outputs": [
    {
     "data": {
      "text/plain": "               inner    cosine   jaccard      dice\nfile_1.txt  0.093024  0.755929  0.119883  0.727273\nfile_2.txt  0.062016  0.670820  0.113104  0.666667\nfile_3.txt  0.062016  0.566947  0.101611  0.545455",
      "text/html": "<div>\n<style scoped>\n    .dataframe tbody tr th:only-of-type {\n        vertical-align: middle;\n    }\n\n    .dataframe tbody tr th {\n        vertical-align: top;\n    }\n\n    .dataframe thead th {\n        text-align: right;\n    }\n</style>\n<table border=\"1\" class=\"dataframe\">\n  <thead>\n    <tr style=\"text-align: right;\">\n      <th></th>\n      <th>inner</th>\n      <th>cosine</th>\n      <th>jaccard</th>\n      <th>dice</th>\n    </tr>\n  </thead>\n  <tbody>\n    <tr>\n      <th>file_1.txt</th>\n      <td>0.093024</td>\n      <td>0.755929</td>\n      <td>0.119883</td>\n      <td>0.727273</td>\n    </tr>\n    <tr>\n      <th>file_2.txt</th>\n      <td>0.062016</td>\n      <td>0.670820</td>\n      <td>0.113104</td>\n      <td>0.666667</td>\n    </tr>\n    <tr>\n      <th>file_3.txt</th>\n      <td>0.062016</td>\n      <td>0.566947</td>\n      <td>0.101611</td>\n      <td>0.545455</td>\n    </tr>\n  </tbody>\n</table>\n</div>"
     },
     "execution_count": 44,
     "metadata": {},
     "output_type": "execute_result"
    }
   ],
   "source": [
    "\n",
    "\n",
    "#FORTH METHOD , dice\n",
    "#Numerator :\n",
    "dot_products = doc_tf.dot(query_tf)\n",
    "\n",
    "#denominator :\n",
    "sum_squared_query= np.sum(np.square(query_tf))\n",
    "sum_squared_doc = np.square(doc_tf).sum(axis=1)\n",
    "\n",
    "#final equation\n",
    "dice = 2*dot_products / (sum_squared_doc + sum_squared_query)\n",
    "df_result[\"dice\"]=dice\n",
    "df_result"
   ],
   "metadata": {
    "collapsed": false,
    "ExecuteTime": {
     "end_time": "2023-08-28T14:07:51.851772600Z",
     "start_time": "2023-08-28T14:07:51.820270800Z"
    }
   },
   "id": "ddcda35c43437e7c"
  },
  {
   "cell_type": "markdown",
   "source": [
    "# Sorting Table"
   ],
   "metadata": {
    "collapsed": false
   },
   "id": "84777d30d466bde3"
  },
  {
   "cell_type": "code",
   "execution_count": 45,
   "outputs": [
    {
     "data": {
      "text/plain": "               inner    cosine   jaccard      dice\nfile_1.txt  0.093024  0.755929  0.119883  0.727273\nfile_2.txt  0.062016  0.670820  0.113104  0.666667\nfile_3.txt  0.062016  0.566947  0.101611  0.545455",
      "text/html": "<div>\n<style scoped>\n    .dataframe tbody tr th:only-of-type {\n        vertical-align: middle;\n    }\n\n    .dataframe tbody tr th {\n        vertical-align: top;\n    }\n\n    .dataframe thead th {\n        text-align: right;\n    }\n</style>\n<table border=\"1\" class=\"dataframe\">\n  <thead>\n    <tr style=\"text-align: right;\">\n      <th></th>\n      <th>inner</th>\n      <th>cosine</th>\n      <th>jaccard</th>\n      <th>dice</th>\n    </tr>\n  </thead>\n  <tbody>\n    <tr>\n      <th>file_1.txt</th>\n      <td>0.093024</td>\n      <td>0.755929</td>\n      <td>0.119883</td>\n      <td>0.727273</td>\n    </tr>\n    <tr>\n      <th>file_2.txt</th>\n      <td>0.062016</td>\n      <td>0.670820</td>\n      <td>0.113104</td>\n      <td>0.666667</td>\n    </tr>\n    <tr>\n      <th>file_3.txt</th>\n      <td>0.062016</td>\n      <td>0.566947</td>\n      <td>0.101611</td>\n      <td>0.545455</td>\n    </tr>\n  </tbody>\n</table>\n</div>"
     },
     "execution_count": 45,
     "metadata": {},
     "output_type": "execute_result"
    }
   ],
   "source": [
    "x = list(df_result.columns)\n",
    "\n",
    "sorted_df2 = df_result.sort_values(by=x, ascending=False)\n",
    "\n",
    "sorted_df2"
   ],
   "metadata": {
    "collapsed": false,
    "ExecuteTime": {
     "end_time": "2023-08-28T14:07:52.969372800Z",
     "start_time": "2023-08-28T14:07:52.953309700Z"
    }
   },
   "id": "8213b9227c1e695e"
  },
  {
   "cell_type": "code",
   "execution_count": null,
   "id": "cdec51bc",
   "metadata": {},
   "outputs": [],
   "source": []
  },
  {
   "cell_type": "code",
   "execution_count": null,
   "id": "d6eb4131",
   "metadata": {},
   "outputs": [],
   "source": []
  }
 ],
 "metadata": {
  "kernelspec": {
   "name": "python3",
   "language": "python",
   "display_name": "Python 3 (ipykernel)"
  },
  "language_info": {
   "codemirror_mode": {
    "name": "ipython",
    "version": 3
   },
   "file_extension": ".py",
   "mimetype": "text/x-python",
   "name": "python",
   "nbconvert_exporter": "python",
   "pygments_lexer": "ipython3",
   "version": "3.10.9"
  }
 },
 "nbformat": 4,
 "nbformat_minor": 5
}
